{
 "cells": [
  {
   "cell_type": "markdown",
   "id": "b0f6c436",
   "metadata": {},
   "source": [
    "APPLICATION A"
   ]
  },
  {
   "cell_type": "code",
   "execution_count": 1,
   "id": "5a0bda9a",
   "metadata": {},
   "outputs": [
    {
     "name": "stdout",
     "output_type": "stream",
     "text": [
      "Graph fully loaded into Neo4j.\n"
     ]
    }
   ],
   "source": [
    "from applications.a2_loaddata import runA2_load_data\n",
    "from applications.a2_createdb import runA2_createdb\n",
    "from applications.a3_evolve_graph import runA3_load"
   ]
  },
  {
   "cell_type": "markdown",
   "id": "1e83f49c",
   "metadata": {},
   "source": [
    "PIPELINE APPLICATION A2"
   ]
  },
  {
   "cell_type": "code",
   "execution_count": 2,
   "id": "a3c6a4c6",
   "metadata": {},
   "outputs": [
    {
     "name": "stdout",
     "output_type": "stream",
     "text": [
      "data/semantic_scholar/sc_data_1/abstracts-sample.jsonl.gz\n",
      "data/semantic_scholar/sc_data_1/authors-sample.jsonl.gz\n",
      "data/semantic_scholar/sc_data_1/citations-sample.jsonl.gz\n",
      "data/semantic_scholar/sc_data_1/paper-ids-sample.jsonl.gz\n",
      "data/semantic_scholar/sc_data_1/papers-sample.jsonl.gz\n",
      "data/semantic_scholar/sc_data_1/publication-venues-sample.jsonl.gz\n",
      "data/semantic_scholar/sc_data_csv/abstracts-sample.csv\n",
      "data/semantic_scholar/sc_data_csv/papers-sample.csv\n",
      "data/semantic_scholar/sc_data_csv/authors-sample.csv\n",
      "data/semantic_scholar/sc_data_csv/publication-venues-sample.csv\n",
      "data/semantic_scholar/sc_data_csv/citations-sample.csv\n",
      "data/semantic_scholar/sc_data_csv/paper-ids-sample.csv\n",
      "Semantic scholar data has been processed and relations have been generated.\n",
      "Graph fully loaded into Neo4j.\n",
      "Data has been loaded into Neo4j database.\n"
     ]
    }
   ],
   "source": [
    "runA2_load_data()\n",
    "runA2_createdb()"
   ]
  },
  {
   "cell_type": "markdown",
   "id": "1f5610a3",
   "metadata": {},
   "source": [
    "PIPELINE APPLICATION A3"
   ]
  },
  {
   "cell_type": "code",
   "execution_count": 3,
   "id": "39395c48",
   "metadata": {},
   "outputs": [
    {
     "name": "stdout",
     "output_type": "stream",
     "text": [
      "Data has been loaded into Neo4j database.\n"
     ]
    }
   ],
   "source": [
    "runA3_load()"
   ]
  }
 ],
 "metadata": {
  "kernelspec": {
   "display_name": "base",
   "language": "python",
   "name": "python3"
  },
  "language_info": {
   "codemirror_mode": {
    "name": "ipython",
    "version": 3
   },
   "file_extension": ".py",
   "mimetype": "text/x-python",
   "name": "python",
   "nbconvert_exporter": "python",
   "pygments_lexer": "ipython3",
   "version": "3.10.16"
  }
 },
 "nbformat": 4,
 "nbformat_minor": 5
}
