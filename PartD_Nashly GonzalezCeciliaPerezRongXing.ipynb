{
 "cells": [
  {
   "cell_type": "markdown",
   "id": "a805deb8",
   "metadata": {},
   "source": [
    "APPLICATION D"
   ]
  },
  {
   "cell_type": "code",
   "execution_count": 1,
   "id": "100c4e3d",
   "metadata": {},
   "outputs": [],
   "source": [
    "from applications.d_graph_algorithms import run_pagerank\n",
    "from applications.d_graph_algorithms import run_louvain"
   ]
  },
  {
   "cell_type": "code",
   "execution_count": 2,
   "id": "b599cb7b",
   "metadata": {},
   "outputs": [
    {
     "name": "stderr",
     "output_type": "stream",
     "text": [
      "Received notification from DBMS server: {severity: WARNING} {code: Neo.ClientNotification.Statement.FeatureDeprecationWarning} {category: DEPRECATION} {title: This feature is deprecated and will be removed in future versions.} {description: The query used a deprecated field from a procedure. ('schema' returned by 'gds.graph.drop' is deprecated.)} {position: line: 1, column: 1, offset: 0} for query: \"CALL gds.graph.drop('papers-graph')\"\n",
      "Received notification from DBMS server: {severity: WARNING} {code: Neo.ClientNotification.Statement.FeatureDeprecationWarning} {category: DEPRECATION} {title: This feature is deprecated and will be removed in future versions.} {description: The query used a deprecated field from a procedure. ('schema' returned by 'gds.graph.drop' is deprecated.)} {position: line: 1, column: 1, offset: 0} for query: \"CALL gds.graph.drop('papers-graph')\"\n"
     ]
    },
    {
     "name": "stdout",
     "output_type": "stream",
     "text": [
      "PageRank algorithm results:\n",
      "Paper ID: 131065985, Score: 1.9873110969645025\n",
      "Paper ID: 178887072, Score: 1.9080109131488479\n",
      "Paper ID: 165070335, Score: 1.8627411857373328\n",
      "Paper ID: 28630532, Score: 1.8329538748984122\n",
      "Paper ID: 120690647, Score: 1.8103700149774076\n",
      "Paper ID: 247834289, Score: 1.7834532712325422\n",
      "Paper ID: 110369551, Score: 1.7806384103624657\n",
      "Paper ID: 83037164, Score: 1.7712871941103292\n",
      "Paper ID: 133790351, Score: 1.7665272393388705\n",
      "Paper ID: 27244264, Score: 1.7010345475449626\n",
      "Louvain algorithm results:\n",
      "Paper ID: 185068317, Community ID: 1\n",
      "Paper ID: 133758434, Community ID: 1\n",
      "Paper ID: 15395218, Community ID: 1\n",
      "Paper ID: 202473233, Community ID: 1\n",
      "Paper ID: 147458872, Community ID: 1\n",
      "Paper ID: 245701070, Community ID: 1\n",
      "Paper ID: 201659424, Community ID: 1\n",
      "Paper ID: 29246173, Community ID: 1\n",
      "Paper ID: 75908838, Community ID: 1\n",
      "Paper ID: 227697209, Community ID: 3\n"
     ]
    }
   ],
   "source": [
    "run_pagerank()\n",
    "run_louvain()"
   ]
  }
 ],
 "metadata": {
  "kernelspec": {
   "display_name": "base",
   "language": "python",
   "name": "python3"
  },
  "language_info": {
   "codemirror_mode": {
    "name": "ipython",
    "version": 3
   },
   "file_extension": ".py",
   "mimetype": "text/x-python",
   "name": "python",
   "nbconvert_exporter": "python",
   "pygments_lexer": "ipython3",
   "version": "3.10.16"
  }
 },
 "nbformat": 4,
 "nbformat_minor": 5
}
