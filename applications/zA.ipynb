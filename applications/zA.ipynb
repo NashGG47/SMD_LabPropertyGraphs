{
 "cells": [
  {
   "cell_type": "markdown",
   "id": "b0f6c436",
   "metadata": {},
   "source": [
    "APPLICATION A"
   ]
  },
  {
   "cell_type": "code",
   "execution_count": null,
   "id": "5a0bda9a",
   "metadata": {},
   "outputs": [],
   "source": [
    "from applications.a2_pipeline import runA2_load_data\n",
    "from applications.a2_pipeline import runA2_createdb\n",
    "from applications.a3_evolve_graph import runA3_load"
   ]
  },
  {
   "cell_type": "markdown",
   "id": "1e83f49c",
   "metadata": {},
   "source": [
    "PIPELINE APPLICATION A2"
   ]
  },
  {
   "cell_type": "code",
   "execution_count": null,
   "id": "a3c6a4c6",
   "metadata": {},
   "outputs": [],
   "source": [
    "runA2_load_data()\n",
    "runA2_createdb()"
   ]
  },
  {
   "cell_type": "markdown",
   "id": "1f5610a3",
   "metadata": {},
   "source": [
    "PIPELINE APPLICATION A3"
   ]
  },
  {
   "cell_type": "code",
   "execution_count": null,
   "id": "39395c48",
   "metadata": {},
   "outputs": [],
   "source": [
    "runA3_load()"
   ]
  }
 ],
 "metadata": {
  "kernelspec": {
   "display_name": "base",
   "language": "python",
   "name": "python3"
  },
  "language_info": {
   "name": "python",
   "version": "3.10.16"
  }
 },
 "nbformat": 4,
 "nbformat_minor": 5
}
