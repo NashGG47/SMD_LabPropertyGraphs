{
 "cells": [
  {
   "cell_type": "markdown",
   "id": "a805deb8",
   "metadata": {},
   "source": [
    "APPLICATION D"
   ]
  },
  {
   "cell_type": "code",
   "execution_count": null,
   "id": "100c4e3d",
   "metadata": {
    "vscode": {
     "languageId": "plaintext"
    }
   },
   "outputs": [],
   "source": [
    "from applications.d_graph_algorithms import run_pagerank\n",
    "from applications.d_graph_algorithms import run_louvain"
   ]
  },
  {
   "cell_type": "code",
   "execution_count": null,
   "id": "b599cb7b",
   "metadata": {
    "vscode": {
     "languageId": "plaintext"
    }
   },
   "outputs": [],
   "source": [
    "run_pagerank()\n",
    "run_louvain()"
   ]
  }
 ],
 "metadata": {
  "language_info": {
   "name": "python"
  }
 },
 "nbformat": 4,
 "nbformat_minor": 5
}
